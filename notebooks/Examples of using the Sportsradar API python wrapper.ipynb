{
 "cells": [
  {
   "cell_type": "markdown",
   "metadata": {},
   "source": [
    "# Playing Around with the Sportsradar API\n",
    "\n",
    "I added new functions for the cricket endpoints to https://github.com/scrambldchannel/SportradarAPIs/tree/master/sportradar\n"
   ]
  },
  {
   "cell_type": "code",
   "execution_count": null,
   "metadata": {},
   "outputs": [],
   "source": [
    "# Import apikey from config file\n",
    "\n",
    "import json\n",
    "\n",
    "with open('../notebook_config.json') as config_file:\n",
    "    data = json.load(config_file)\n",
    "\n",
    "key = data['SPORTSRADAR_API_KEY']"
   ]
  },
  {
   "cell_type": "code",
   "execution_count": null,
   "metadata": {},
   "outputs": [],
   "source": [
    "# Import library\n",
    "\n",
    "from sportradar import Cricket\n",
    "\n",
    "# Create an instance of the Sportradar Cricket API class\n",
    "\n",
    "sr = Cricket.Cricket(api_key=key)"
   ]
  },
  {
   "cell_type": "code",
   "execution_count": null,
   "metadata": {},
   "outputs": [],
   "source": [
    "# variables for testing, some may need to be updated \n",
    "\n",
    "match_id = 'sr:match:18596810'\n",
    "tournament_id = 'sr:tournament:29298'\n",
    "tour_id = 'sr:tour:15538'\n",
    "player_id = 'sr:player:647920'\n",
    "team_id = 'sr:competitor:142690'\n",
    "team2_id = 'sr:competitor:107205'"
   ]
  },
  {
   "cell_type": "code",
   "execution_count": null,
   "metadata": {},
   "outputs": [],
   "source": [
    "schedule = sr.get_daily_schedule(year=2019, month=9, day=4).json()\n",
    "print(json.dumps(schedule, indent=4, sort_keys=True))"
   ]
  },
  {
   "cell_type": "code",
   "execution_count": null,
   "metadata": {},
   "outputs": [],
   "source": [
    "results = sr.get_daily_results(year=2019, month=9, day=4).json()\n",
    "print(json.dumps(schedule, indent=4, sort_keys=True))\n"
   ]
  },
  {
   "cell_type": "code",
   "execution_count": null,
   "metadata": {},
   "outputs": [],
   "source": [
    "lineups = sr.get_match_lineups(match=match_id).json()\n",
    "print(json.dumps(lineups, indent=4, sort_keys=True))"
   ]
  },
  {
   "cell_type": "code",
   "execution_count": null,
   "metadata": {},
   "outputs": [],
   "source": [
    "probabilities = sr.get_match_probabilities(match=match_id).json()\n",
    "print(json.dumps(probabilities, indent=4, sort_keys=True))"
   ]
  },
  {
   "cell_type": "code",
   "execution_count": null,
   "metadata": {},
   "outputs": [],
   "source": [
    "summary = sr.get_match_summary(match=match_id).json()\n",
    "print(json.dumps(summary, indent=4, sort_keys=True))"
   ]
  },
  {
   "cell_type": "code",
   "execution_count": null,
   "metadata": {},
   "outputs": [],
   "source": [
    "# This one not working, may need to use different match_id or investigate further\n",
    "\n",
    "timeline = sr.get_match_timeline(match=match_id).json()\n",
    "print(json.dumps(timeline, indent=4, sort_keys=True))"
   ]
  },
  {
   "cell_type": "code",
   "execution_count": null,
   "metadata": {},
   "outputs": [],
   "source": [
    "timeline_delta = sr.get_match_timeline_delta(match=match_id).json()\n",
    "print(json.dumps(timeline_delta, indent=4, sort_keys=True))"
   ]
  },
  {
   "cell_type": "code",
   "execution_count": null,
   "metadata": {},
   "outputs": [],
   "source": [
    "player_profile = sr.get_player_profile(player=player_id).json()\n",
    "print(json.dumps(player_profile, indent=4, sort_keys=True))"
   ]
  },
  {
   "cell_type": "code",
   "execution_count": null,
   "metadata": {},
   "outputs": [],
   "source": [
    "team_profile = sr.get_team_profile(team=team_id).json()\n",
    "print(json.dumps(team_profile, indent=4, sort_keys=True))"
   ]
  },
  {
   "cell_type": "code",
   "execution_count": null,
   "metadata": {},
   "outputs": [],
   "source": [
    "team_results = sr.get_team_results(team=team_id).json()\n",
    "print(json.dumps(team_results, indent=4, sort_keys=True))"
   ]
  },
  {
   "cell_type": "code",
   "execution_count": null,
   "metadata": {},
   "outputs": [],
   "source": [
    "team_schedule = sr.get_team_schedule(team=team_id).json()\n",
    "print(json.dumps(team_schedule, indent=4, sort_keys=True))"
   ]
  },
  {
   "cell_type": "code",
   "execution_count": null,
   "metadata": {},
   "outputs": [],
   "source": [
    "team_vs_team = sr.get_team_vs_team(team=team_id, team2=team2_id).json()\n",
    "print(json.dumps(team_vs_team, indent=4, sort_keys=True))"
   ]
  },
  {
   "cell_type": "code",
   "execution_count": null,
   "metadata": {},
   "outputs": [],
   "source": [
    "tour_list = sr.get_tour_list().json()\n",
    "print(json.dumps(tour_list, indent=4, sort_keys=True))"
   ]
  },
  {
   "cell_type": "code",
   "execution_count": null,
   "metadata": {},
   "outputs": [],
   "source": [
    "tour_schedule = sr.get_tour_schedule(tour=tour_id).json()\n",
    "print(json.dumps(tour_schedule, indent=4, sort_keys=True))"
   ]
  },
  {
   "cell_type": "code",
   "execution_count": null,
   "metadata": {},
   "outputs": [],
   "source": [
    "tournament_info = sr.get_tournament_info(tournament=tournament_id).json()\n",
    "print(json.dumps(tournament_info, indent=4, sort_keys=True))"
   ]
  },
  {
   "cell_type": "code",
   "execution_count": null,
   "metadata": {},
   "outputs": [],
   "source": [
    "tournament_leaders = sr.get_tournament_leaders(tournament=tournament_id).json()\n",
    "print(json.dumps(tournament_leaders, indent=4, sort_keys=True))"
   ]
  },
  {
   "cell_type": "code",
   "execution_count": null,
   "metadata": {},
   "outputs": [],
   "source": [
    "tournament_list = sr.get_tournament_list().json()\n",
    "print(json.dumps(tournament_list, indent=4, sort_keys=True))"
   ]
  },
  {
   "cell_type": "code",
   "execution_count": null,
   "metadata": {},
   "outputs": [],
   "source": [
    "tournament_results = sr.get_tournament_results(tournament=tournament_id).json()\n",
    "print(json.dumps(tournament_results, indent=4, sort_keys=True))"
   ]
  },
  {
   "cell_type": "code",
   "execution_count": null,
   "metadata": {},
   "outputs": [],
   "source": [
    "tournament_schedule = sr.get_tournament_schedule(tournament=tournament_id).json()\n",
    "print(json.dumps(tournament_schedule, indent=4, sort_keys=True))"
   ]
  },
  {
   "cell_type": "code",
   "execution_count": null,
   "metadata": {},
   "outputs": [],
   "source": [
    "tournament_seasons = sr.get_tournament_seasons(tournament=tournament_id).json()\n",
    "print(json.dumps(tournament_seasons, indent=4, sort_keys=True))"
   ]
  },
  {
   "cell_type": "code",
   "execution_count": null,
   "metadata": {},
   "outputs": [],
   "source": [
    "tournament_squads = sr.get_tournament_squads(tournament=tournament_id, team=team_id).json()\n",
    "print(json.dumps(tournament_squads, indent=4, sort_keys=True))"
   ]
  },
  {
   "cell_type": "code",
   "execution_count": null,
   "metadata": {},
   "outputs": [],
   "source": [
    "tournament_standings = sr.get_tournament_standings(tournament=tournament_id).json()\n",
    "print(json.dumps(tournament_standings, indent=4, sort_keys=True))"
   ]
  },
  {
   "cell_type": "code",
   "execution_count": null,
   "metadata": {},
   "outputs": [],
   "source": []
  }
 ],
 "metadata": {
  "kernelspec": {
   "display_name": "Python [conda env:cricketdata]",
   "language": "python",
   "name": "conda-env-cricketdata-py"
  },
  "language_info": {
   "codemirror_mode": {
    "name": "ipython",
    "version": 3
   },
   "file_extension": ".py",
   "mimetype": "text/x-python",
   "name": "python",
   "nbconvert_exporter": "python",
   "pygments_lexer": "ipython3",
   "version": "3.6.9"
  }
 },
 "nbformat": 4,
 "nbformat_minor": 2
}
