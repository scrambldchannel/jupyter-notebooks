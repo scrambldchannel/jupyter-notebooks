{
 "cells": [
  {
   "cell_type": "markdown",
   "metadata": {},
   "source": [
    "> **WARNING**: This is a work in progress\n",
    "\n",
    "# Main Title and Intro\n",
    "\n",
    "Inspired by an enthralling Ashes series, I wanted to play around with cricket data available from various free and commercial APIs out there offering sport data.   \n",
    "\n",
    "## Goals\n",
    "\n",
    "* List things we are trying to do"
   ]
  },
  {
   "cell_type": "code",
   "execution_count": 2,
   "metadata": {},
   "outputs": [],
   "source": [
    "# Read config from file, useful for holding keys etc\n",
    "\n",
    "import json\n",
    "\n",
    "with open('../notebook_config_sample.json') as config_file:\n",
    "    data = json.load(config_file)\n",
    "\n",
    "key = data['NOT_REALLY_SECRET_KEY']\n"
   ]
  },
  {
   "cell_type": "code",
   "execution_count": 5,
   "metadata": {},
   "outputs": [],
   "source": [
    "# Import various other commonly used things\n",
    "\n",
    "import requests"
   ]
  },
  {
   "cell_type": "code",
   "execution_count": null,
   "metadata": {},
   "outputs": [],
   "source": []
  }
 ],
 "metadata": {
  "kernelspec": {
   "display_name": "Python [conda env:jupyter] *",
   "language": "python",
   "name": "conda-env-jupyter-py"
  },
  "language_info": {
   "codemirror_mode": {
    "name": "ipython",
    "version": 3
   },
   "file_extension": ".py",
   "mimetype": "text/x-python",
   "name": "python",
   "nbconvert_exporter": "python",
   "pygments_lexer": "ipython3",
   "version": "3.7.4"
  }
 },
 "nbformat": 4,
 "nbformat_minor": 2
}
