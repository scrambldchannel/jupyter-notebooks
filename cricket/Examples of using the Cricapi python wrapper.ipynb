{
 "cells": [
  {
   "cell_type": "markdown",
   "metadata": {},
   "source": [
    "> **WARNING**: This is a work in progress\n",
    "\n",
    "# Playing with the data available at cricapi\n",
    "\n",
    "Cricapi offers limited free access to cricket data via their api and I wanted to see what data was available. \n",
    "\n",
    "https://www.cricapi.com/"
   ]
  },
  {
   "cell_type": "markdown",
   "metadata": {},
   "source": [
    "## Goals\n",
    "\n",
    "* See what data is available via the API\n",
    "* Look at existing python wrappers and fill any gaps\n"
   ]
  },
  {
   "cell_type": "markdown",
   "metadata": {},
   "source": [
    "## Setup\n",
    "\n",
    "### A key is required and can be created by signing up at https://www.cricapi.com/\n",
    "\n",
    "It offers a free plan which gives you a 100 calls per day. Not many but enough to have a look.\n",
    "\n",
    "### Install the wrapper library\n",
    "\n",
    "There is a python wrapper already on PyPi. Install by running the following:\n",
    "\n",
    "```shell\n",
    "pip install cricapi\n",
    "```\n",
    "\n",
    "### Import library and initialise wrapper"
   ]
  },
  {
   "cell_type": "code",
   "execution_count": null,
   "metadata": {},
   "outputs": [],
   "source": [
    "# Read config from file, useful for holding keys etc\n",
    "\n",
    "import json\n",
    "\n",
    "with open('../notebook_config.json') as config_file:\n",
    "    data = json.load(config_file)\n",
    "\n",
    "key = data['CRICAPI_API_KEY']"
   ]
  },
  {
   "cell_type": "code",
   "execution_count": null,
   "metadata": {},
   "outputs": [],
   "source": [
    "# import wrapper library and initialise api using your key\n",
    "\n",
    "import cricapi\n",
    "api = cricapi.Cricapi(key)"
   ]
  },
  {
   "cell_type": "code",
   "execution_count": null,
   "metadata": {},
   "outputs": [],
   "source": [
    "# set a few variables for testing\n",
    "# the parameters expected by the wrapper functions expect dict objects\n",
    "\n",
    "match_id = {'unique_id' : '1152849'}\n",
    "player_id = {'pid' : 52812} \n",
    "player_name = {'name' : 'Waugh'}"
   ]
  },
  {
   "cell_type": "markdown",
   "metadata": {},
   "source": [
    "### Examples of each wrapper function\n",
    "\n",
    "There are eight endpoints with a corresponding wrapper function."
   ]
  },
  {
   "cell_type": "code",
   "execution_count": null,
   "metadata": {},
   "outputs": [],
   "source": [
    "# Get matches\n",
    "# Seems to give a list of ongoing and future matches\n",
    "# Note, you might see test matches that have already finished in my experience\n",
    "\n",
    "matches_data = api.matches()\n",
    "print(json.dumps(matches_data, indent=4, sort_keys=True))"
   ]
  },
  {
   "cell_type": "code",
   "execution_count": null,
   "metadata": {},
   "outputs": [],
   "source": [
    "# This seems to give a shorter list of current matches\n",
    "# Not sure when you would use one versus the other\n",
    "# Is one or the other marked as deprecated? \n",
    "\n",
    "cricket_data = api.cricket()\n",
    "print(json.dumps(cricket_data, indent=4, sort_keys=True))"
   ]
  },
  {
   "cell_type": "code",
   "execution_count": null,
   "metadata": {},
   "outputs": [],
   "source": [
    "# Gives details of a specific match\n",
    "\n",
    "cricketScore_data = api.cricketScore(match_id)\n",
    "print(json.dumps(cricketScore_data, indent=4, sort_keys=True))"
   ]
  },
  {
   "cell_type": "code",
   "execution_count": null,
   "metadata": {},
   "outputs": [],
   "source": [
    "# Gives a list of games happening currently and for a couple of months in the future\n",
    "\n",
    "matchCalendar_data = api.matchCalendar()\n",
    "print(json.dumps(matchCalendar_data, indent=4, sort_keys=True))"
   ]
  },
  {
   "cell_type": "code",
   "execution_count": null,
   "metadata": {},
   "outputs": [],
   "source": [
    "# Gives stats based on a player id\n",
    "# Quite detailed, encompasses all formats\n",
    "\n",
    "playerStats_data = api.playerStats(player_id)\n",
    "print(json.dumps(playerStats_data, indent=4, sort_keys=True))"
   ]
  },
  {
   "cell_type": "code",
   "execution_count": null,
   "metadata": {},
   "outputs": [],
   "source": [
    "# Get fantasy summary\n",
    "\n",
    "fantasy_summary_data = api.fantasySummary(match_id)\n",
    "print(json.dumps(fantasy_summary_data, indent=4, sort_keys=True))"
   ]
  },
  {
   "cell_type": "code",
   "execution_count": null,
   "metadata": {},
   "outputs": [],
   "source": [
    "# Get fantasy squad\n",
    "\n",
    "fantasy_squad_data = api.fantasySquad(match_id)\n",
    "print(json.dumps(fantasy_squad_data, indent=4, sort_keys=True))"
   ]
  },
  {
   "cell_type": "code",
   "execution_count": null,
   "metadata": {},
   "outputs": [],
   "source": [
    "# Player search\n",
    "# this is kind of cool actually, accepts a name as does some sort of fuzzy search and returns the details (including the pid) within the data section\n",
    "# However it doesn't seem to find some players I would expect to see\n",
    "# This is what you get when you run for 'Waugh' - ie you get Steve Waugh's son but nothing of Steve or Mark\n",
    "\n",
    "player_search = api.playerFinder(player_name)\n",
    "print(json.dumps(player_search, indent=4, sort_keys=True))"
   ]
  }
 ],
 "metadata": {
  "kernelspec": {
   "display_name": "Python [conda env:cricketdata]",
   "language": "python",
   "name": "conda-env-cricketdata-py"
  },
  "language_info": {
   "codemirror_mode": {
    "name": "ipython",
    "version": 3
   },
   "file_extension": ".py",
   "mimetype": "text/x-python",
   "name": "python",
   "nbconvert_exporter": "python",
   "pygments_lexer": "ipython3",
   "version": "3.6.9"
  }
 },
 "nbformat": 4,
 "nbformat_minor": 2
}
