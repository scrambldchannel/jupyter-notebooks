{
 "cells": [
  {
   "cell_type": "markdown",
   "metadata": {},
   "source": [
    "> **WARNING**: This is a work in progress\n",
    "\n",
    "# Main Title and Intro\n",
    "\n",
    "Inspired by an enthralling Ashes series, I wanted to play around with cricket data available from various free and commercial APIs out there offering sport data.   \n",
    "\n",
    "## Goals\n",
    "\n",
    "- [ ] Goal 1\n",
    "    - [ ] Sub Goal 2\n",
    "    - [x] Sub Goal 2 (completed)"
   ]
  },
  {
   "cell_type": "code",
   "execution_count": 1,
   "metadata": {},
   "outputs": [],
   "source": [
    "# Read config from file, useful for holding keys etc\n",
    "\n",
    "import json\n",
    "\n",
    "with open('./notebook_config_sample.json') as config_file:\n",
    "    data = json.load(config_file)\n",
    "\n",
    "key = data['NOT_REALLY_SECRET_KEY']"
   ]
  },
  {
   "cell_type": "code",
   "execution_count": 2,
   "metadata": {},
   "outputs": [],
   "source": [
    "# Import various other commonly used things if required\n",
    "\n",
    "import requests\n",
    "#import numpy as np\n",
    "#import pandas as pd\n",
    "#import geopandas as gpd\n",
    "#import matplotlib.pyplot as plt"
   ]
  },
  {
   "cell_type": "code",
   "execution_count": 3,
   "metadata": {},
   "outputs": [],
   "source": [
    "# Set up mechanism for import utility scripts and any local data sources\n",
    "\n",
    "import sys\n",
    "import os\n",
    "\n",
    "dataset_path = \"./datasets/\"\n",
    "utils_path = \"./utils/\"\n",
    "\n",
    "sys.path.insert(0, os.path.abspath(os.path.join(os.getcwd(), utils_path))) \n",
    "\n",
    "# Now any module files in the utils folder should be able to be imported"
   ]
  }
 ],
 "metadata": {
  "kernelspec": {
   "display_name": "Python [conda env:jupyter] *",
   "language": "python",
   "name": "conda-env-jupyter-py"
  },
  "language_info": {
   "codemirror_mode": {
    "name": "ipython",
    "version": 3
   },
   "file_extension": ".py",
   "mimetype": "text/x-python",
   "name": "python",
   "nbconvert_exporter": "python",
   "pygments_lexer": "ipython3",
   "version": "3.7.4"
  }
 },
 "nbformat": 4,
 "nbformat_minor": 2
}
